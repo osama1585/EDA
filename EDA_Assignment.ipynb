{
 "cells": [
  {
   "cell_type": "markdown",
   "id": "6016c104-afe8-4a1b-84a0-a86e4124ec99",
   "metadata": {},
   "source": [
    "<span style=color:red;font-size:55px>ASSIGNMENT</span>"
   ]
  },
  {
   "cell_type": "markdown",
   "id": "33fb14d6-a28a-4d22-b788-d7358bc883d2",
   "metadata": {},
   "source": [
    "<span style=color:pink;font-size:50px>Exploratory Data Analysis-1</span>"
   ]
  },
  {
   "cell_type": "markdown",
   "id": "aafa38cd-5c59-4ca3-ba1e-e4a45be1da42",
   "metadata": {},
   "source": [
    "## Q1. What are the key features of the wine quality data set? Discuss the importance of each feature in predicting the quality of wine."
   ]
  },
  {
   "cell_type": "markdown",
   "id": "183d44f2-0e95-4e15-ae8d-950f3b59e58a",
   "metadata": {},
   "source": [
    "## Ans-"
   ]
  },
  {
   "cell_type": "markdown",
   "id": "8771b0b3-7345-4f5c-9ddc-3fa811502ecc",
   "metadata": {},
   "source": [
    "# Key Features of the Wine Quality Dataset\n",
    "\n",
    "The wine quality dataset contains various features that are crucial for predicting the quality of wine. Let's discuss the importance of each feature:\n",
    "\n",
    "1. Fixed Acidity:\n",
    "   - Fixed acidity refers to the total concentration of acids in wine, primarily tartaric acid. \n",
    "   - Tartaric acid is a vital component in wine and contributes to its taste and stability. \n",
    "   - The acidity level affects the overall balance and taste perception of wine. \n",
    "   - Wines with higher fixed acidity may taste more sour or tart.\n",
    "\n",
    "2. Volatile Acidity:\n",
    "   - Volatile acidity represents the concentration of volatile acids in wine, primarily acetic acid.\n",
    "   - Excessive volatile acidity can result from microbial spoilage or fermentation issues.\n",
    "   - High levels of volatile acidity can lead to unpleasant flavors resembling vinegar or nail polish remover.\n",
    "   - It is essential to maintain volatile acidity within an acceptable range to ensure wine quality.\n",
    "\n",
    "3. Citric Acid:\n",
    "   - Citric acid is a natural acid found in fruits, including grapes.\n",
    "   - In wine, citric acid contributes to the overall acidity and freshness.\n",
    "   - It can enhance the fruity aroma and flavor profile of wine.\n",
    "   - Citric acid is essential for balancing other flavor components in wine, such as sweetness and bitterness.\n",
    "\n",
    "4. Residual Sugar:\n",
    "   - Residual sugar refers to the amount of sugar remaining in the wine after fermentation.\n",
    "   - It influences the sweetness level of wine, ranging from dry to sweet.\n",
    "   - Wines with higher residual sugar tend to taste sweeter and may appeal to those with a preference for sweet wines.\n",
    "   - The residual sugar level should be balanced with other taste components to achieve the desired wine style.\n",
    "\n",
    "5. Chlorides:\n",
    "   - Chloride ions in wine primarily come from salt additions or the grape's natural environment.\n",
    "   - Chlorides contribute to the overall taste perception and mouthfeel of wine.\n",
    "   - Excessive chloride levels can result in a salty or briny taste, negatively impacting wine quality.\n",
    "   - Proper management of chloride levels is essential to maintain the wine's balance and flavor profile.\n",
    "\n",
    "6. Free Sulfur Dioxide:\n",
    "   - Free sulfur dioxide (SO2) is used as a preservative in winemaking to prevent oxidation and microbial spoilage.\n",
    "   - It acts as an antioxidant and antimicrobial agent, ensuring wine stability and longevity.\n",
    "   - Proper levels of free SO2 are crucial for protecting wine from oxidation and maintaining its freshness.\n",
    "   - However, excessive SO2 can impart undesirable aromas and flavors, affecting wine quality.\n",
    "\n",
    "7. Total Sulfur Dioxide:\n",
    "   - Total sulfur dioxide (SO2) includes both free and bound forms of sulfur dioxide in wine.\n",
    "   - It serves as an indicator of overall sulfur dioxide levels and the wine's preservative capacity.\n",
    "   - Total SO2 concentration should comply with regulatory limits to ensure wine safety and quality.\n",
    "   - Monitoring total SO2 levels helps winemakers manage sulfite additions and minimize potential health risks.\n",
    "\n",
    "8. Density:\n",
    "   - Density, or specific gravity, measures the wine's mass per unit volume.\n",
    "   - It reflects the wine's overall composition, including alcohol content and residual sugar concentration.\n",
    "   - Density can provide insights into the wine's body, viscosity, and mouthfeel.\n",
    "   - Changes in density may indicate fermentation progress or potential winemaking issues.\n",
    "\n",
    "9. pH:\n",
    "   - pH represents the acidity or alkalinity level of wine on a logarithmic scale.\n",
    "   - It influences various chemical reactions and microbial activity during winemaking and aging.\n",
    "   - pH affects wine stability, color, flavor extraction, and microbial safety.\n",
    "   - Maintaining optimal pH levels is critical for ensuring wine quality, balance, and longevity.\n",
    "\n",
    "10. Sulphates:\n",
    "    - Sulphates, primarily from potassium sulphate or sodium sulphate, may be added to wine as a preservative or clarifying agent.\n",
    "    - They can inhibit microbial growth and prevent wine spoilage.\n",
    "    - However, excessive sulphate levels can lead to undesirable aromas and bitter tastes.\n",
    "    - Proper sulphate management is essential to balance preservation with sensory quality.\n",
    "\n",
    "11. Alcohol:\n",
    "    - Alcohol content in wine is typically expressed as a percentage of volume.\n",
    "    - It significantly influences the wine's body, flavor, and mouthfeel.\n",
    "    - Higher alcohol levels can contribute to a fuller body and warmth sensation.\n",
    "    - Alcohol content should be in harmony with other wine components to achieve desired taste and style.\n",
    "\n",
    "12. Quality (Target Variable):\n",
    "    - Quality is the target variable representing the perceived quality of wine, typically rated on a numerical scale.\n",
    "    - It integrates various sensory attributes, including aroma, flavor, balance, and overall enjoyment.\n",
    "    - Predicting wine quality is essential for producers to optimize winemaking practices and meet consumer preferences.\n",
    "    - Understanding the relationship between quality and other features helps improve wine production and selection.\n",
    "\n",
    "Each feature in the wine quality dataset plays a crucial role in shaping the sensory characteristics, stability, and overall quality of wine. Analyzing and modeling these features can provide valuable insights into winemaking processes and consumer preferences, facilitating quality improvement and innovation in the wine industry.\n"
   ]
  },
  {
   "cell_type": "markdown",
   "id": "4cfb94e1-1acd-4bbf-8b77-b81a4595b773",
   "metadata": {},
   "source": [
    "## Q2. How did you handle missing data in the wine quality data set during the feature engineering process? Discuss the advantages and disadvantages of different imputation techniques."
   ]
  },
  {
   "cell_type": "markdown",
   "id": "5a4d1593-828d-4d1c-854e-9ba1190eb10d",
   "metadata": {},
   "source": [
    "## Ans-"
   ]
  },
  {
   "cell_type": "markdown",
   "id": "2ecb68c8-bc6f-4c60-aaf7-8f4fa351136b",
   "metadata": {},
   "source": [
    "\n",
    "\n",
    "During the feature engineering process for the wine quality dataset, missing data can be handled using various imputation techniques. Let's discuss the advantages and disadvantages of some common imputation techniques:\n",
    "\n",
    "## Imputation Techniques:\n",
    "\n",
    "1. **Mean/Median Imputation:**\n",
    "   - **Advantages:**\n",
    "     - Simple and easy to implement.\n",
    "     - Preserves the distribution of the feature.\n",
    "   - **Disadvantages:**\n",
    "     - May distort the original distribution if the missing data is not missing at random (MAR).\n",
    "     - Can introduce bias if the missing data is not missing completely at random (MCAR).\n",
    "\n",
    "2. **Mode Imputation (for categorical variables):**\n",
    "   - **Advantages:**\n",
    "     - Suitable for categorical data.\n",
    "     - Preserves the mode of the feature.\n",
    "   - **Disadvantages:**\n",
    "     - Similar to mean/median imputation, may introduce bias if data is not MCAR.\n",
    "\n",
    "3. **KNN Imputation:**\n",
    "   - **Advantages:**\n",
    "     - Considers the relationships between features.\n",
    "     - More accurate than mean/median imputation.\n",
    "   - **Disadvantages:**\n",
    "     - Computationally expensive for large datasets.\n",
    "     - Sensitive to the choice of the number of nearest neighbors.\n",
    "\n",
    "4. **Multiple Imputation:**\n",
    "   - **Advantages:**\n",
    "     - Provides multiple imputed datasets, capturing uncertainty.\n",
    "     - Suitable for complex missing data patterns.\n",
    "   - **Disadvantages:**\n",
    "     - Requires assumptions about the missing data mechanism.\n",
    "     - Can be computationally intensive.\n",
    "\n",
    "5. **Predictive Modeling (e.g., regression imputation):**\n",
    "   - **Advantages:**\n",
    "     - Utilizes relationships between features for imputation.\n",
    "     - Can handle both continuous and categorical variables.\n",
    "   - **Disadvantages:**\n",
    "     - Requires a well-performing predictive model.\n",
    "     - May overfit if not carefully implemented.\n",
    "\n",
    "Each imputation technique has its own set of advantages and disadvantages, and the choice depends on factors such as the nature of the dataset, the extent of missingness, and computational resources available.\n"
   ]
  },
  {
   "cell_type": "markdown",
   "id": "323c4725-63ae-4da5-95cb-36e1f4ffcebd",
   "metadata": {},
   "source": [
    "## Q3. What are the key factors that affect students' performance in exams? How would you go about analyzing these factors using statistical techniques?"
   ]
  },
  {
   "cell_type": "markdown",
   "id": "6eba23c9-bcb3-4da9-aad3-c49193ab0ed4",
   "metadata": {},
   "source": [
    "## Ans-"
   ]
  },
  {
   "cell_type": "markdown",
   "id": "c58fad67-935f-4763-b36e-be0b8fba459d",
   "metadata": {},
   "source": [
    "\n",
    "\n",
    "Several factors can influence students' performance in exams. Some key factors include:\n",
    "\n",
    "1. **Study Habits:** The amount of time spent studying, study techniques used, and consistency in studying.\n",
    "2. **Prior Knowledge:** Students' understanding of the subject matter before the exam.\n",
    "3. **Attendance:** Regular attendance and engagement in class activities.\n",
    "4. **Teacher Quality:** The effectiveness of teaching methods and support provided by teachers.\n",
    "5. **Socioeconomic Status:** Economic background, access to resources, and family support.\n",
    "6. **Motivation:** Intrinsic motivation, interest in the subject, and perceived importance of exams.\n",
    "7. **Health and Well-being:** Physical and mental health, stress levels, and sleep quality.\n",
    "\n",
    "## Analyzing Factors Using Statistical Techniques:\n",
    "\n",
    "To analyze these factors using statistical techniques, the following steps can be taken:\n",
    "\n",
    "1. **Data Collection:** Gather data on various factors affecting students' performance, such as study hours, attendance records, socioeconomic background, etc.\n",
    "   \n",
    "2. **Data Cleaning:** Clean the dataset to handle missing values, outliers, and inconsistencies.\n",
    "   \n",
    "3. **Exploratory Data Analysis (EDA):** Conduct EDA to understand the distribution of variables, identify patterns, and explore relationships between different factors and exam performance.\n",
    "   \n",
    "4. **Descriptive Statistics:** Calculate summary statistics for each factor, such as mean, median, standard deviation, etc., to gain insights into the central tendency and variability of the data.\n",
    "   \n",
    "5. **Correlation Analysis:** Use correlation coefficients (e.g., Pearson correlation) to measure the strength and direction of relationships between variables. This helps identify factors that are most strongly associated with exam performance.\n",
    "   \n",
    "6. **Regression Analysis:** Perform regression analysis to model the relationship between exam performance (dependent variable) and various factors (independent variables). This helps quantify the impact of each factor on exam scores and identify significant predictors.\n",
    "   \n",
    "7. **Hypothesis Testing:** Conduct hypothesis tests (e.g., t-tests, ANOVA) to determine if there are significant differences in exam performance based on different categorical variables (e.g., gender, socioeconomic status).\n",
    "   \n",
    "8. **Predictive Modeling:** Develop predictive models (e.g., linear regression, decision trees) to predict students' exam performance based on their characteristics and other factors. Evaluate model performance using metrics like mean squared error, accuracy, etc.\n",
    "\n",
    "By systematically analyzing these factors using statistical techniques, educators and policymakers can gain valuable insights into the drivers of students' exam performance and develop targeted interventions to improve educational outcomes.\n"
   ]
  },
  {
   "cell_type": "markdown",
   "id": "8a188b38-5f2d-4712-a718-48ff5f067d52",
   "metadata": {},
   "source": [
    "## Q4. Describe the process of feature engineering in the context of the student performance data set. How did you select and transform the variables for your model?"
   ]
  },
  {
   "cell_type": "markdown",
   "id": "49607079-b613-4bfb-8876-1f030b7d597d",
   "metadata": {},
   "source": [
    "## Ans-"
   ]
  },
  {
   "cell_type": "markdown",
   "id": "00a32beb-154e-4744-8292-bc877c60f85c",
   "metadata": {},
   "source": [
    "## Feature Engineering in Student Performance Dataset\n",
    "\n",
    "Feature engineering is a critical aspect of building machine learning models, especially with complex datasets like student performance data. In this context, feature engineering involves selecting and transforming variables to improve model performance and interpretability.\n",
    "\n",
    "### 1. Selecting Variables:\n",
    "\n",
    "#### Initial Selection:\n",
    "- Begin by identifying variables that may influence student performance based on domain knowledge and intuition.\n",
    "- Commonly selected variables include:\n",
    "  - Demographic information: gender, race/ethnicity, parental level of education, etc.\n",
    "  - Academic history: previous test scores, attendance, etc.\n",
    "  - Environmental factors: type of lunch, test preparation course, etc.\n",
    "\n",
    "#### Feature Importance:\n",
    "- Utilize techniques like correlation analysis or feature importance scores from models to prioritize variables.\n",
    "- Select features with high correlation with the target variable (e.g., math score, reading score, writing score).\n",
    "\n",
    "### 2. Transforming Variables:\n",
    "\n",
    "#### Handling Categorical Variables:\n",
    "- Encode categorical variables into numerical format suitable for machine learning algorithms.\n",
    "- Use techniques like one-hot encoding or label encoding.\n",
    "  \n",
    "#### Handling Missing Values:\n",
    "- Analyze and address missing values in the dataset.\n",
    "- Impute missing values using appropriate methods such as mean, median, or predictive imputation.\n",
    "\n",
    "#### Feature Creation:\n",
    "- Create new features based on domain knowledge or insights from the dataset.\n",
    "- For example, combine 'math score', 'reading score', and 'writing score' to create an average score feature.\n",
    "\n",
    "#### Feature Scaling:\n",
    "- Scale numerical features to a similar range to prevent certain features from dominating the model.\n",
    "- Common scaling techniques include min-max scaling or standardization.\n",
    "\n",
    "#### Handling Skewed Distributions:\n",
    "- Apply transformations to skewed variables to improve model performance.\n",
    "- Common transformations include logarithmic transformation or Box-Cox transformation.\n",
    "\n",
    "### Example:\n",
    "\n",
    "#### Selected Variables:\n",
    "- 'gender', 'race/ethnicity', 'parental level of education', 'lunch', 'test preparation course', 'math score', 'reading score', 'writing score', 'absences'.\n",
    "\n",
    "#### Transformation Steps:\n",
    "1. One-hot encode categorical variables like 'gender', 'race/ethnicity', 'parental level of education', 'lunch', and 'test preparation course'.\n",
    "2. Impute missing values using mean or median for numerical variables like 'absences'.\n",
    "3. Create a new feature 'average score' by averaging 'math score', 'reading score', and 'writing score'.\n",
    "4. Scale numerical features like 'absences' and 'average score'.\n",
    "5. Apply logarithmic transformation to 'absences' to handle skewness.\n",
    "\n",
    "### Conclusion:\n",
    "\n",
    "Feature engineering is essential for building robust predictive models from the student performance dataset. By carefully selecting and transforming variables, we can enhance model performance, interpretability, and generalization to new data.\n"
   ]
  },
  {
   "cell_type": "markdown",
   "id": "18653ba4-098f-4624-90e3-c5a082a65061",
   "metadata": {},
   "source": [
    "## Q5. Load the wine quality data set and perform exploratory data analysis (EDA) to identify the distribution of each feature. Which feature(s) exhibit non-normality, and what transformations could be applied to these features to improve normality?"
   ]
  },
  {
   "cell_type": "markdown",
   "id": "b6972037-38f4-435d-ba85-b8d98dfbcc4b",
   "metadata": {},
   "source": [
    "## Ans-"
   ]
  },
  {
   "cell_type": "code",
   "execution_count": 11,
   "id": "58809b13-3e20-4f01-a335-755c74ef15d7",
   "metadata": {},
   "outputs": [
    {
     "name": "stdout",
     "output_type": "stream",
     "text": [
      "     alcohol   density        pH  sulphates  quality\n",
      "0  10.621781  1.001108  3.114047   0.770892        4\n",
      "1  14.655000  1.022514  3.096375   0.857677        7\n",
      "2  13.123958  1.042377  3.887505   0.475328        7\n",
      "3  12.190609  1.033933  3.099455   0.737412        5\n",
      "4   9.092130  1.038394  3.126340   0.700222        6\n"
     ]
    },
    {
     "data": {
      "text/html": [
       "<div>\n",
       "<style scoped>\n",
       "    .dataframe tbody tr th:only-of-type {\n",
       "        vertical-align: middle;\n",
       "    }\n",
       "\n",
       "    .dataframe tbody tr th {\n",
       "        vertical-align: top;\n",
       "    }\n",
       "\n",
       "    .dataframe thead th {\n",
       "        text-align: right;\n",
       "    }\n",
       "</style>\n",
       "<table border=\"1\" class=\"dataframe\">\n",
       "  <thead>\n",
       "    <tr style=\"text-align: right;\">\n",
       "      <th></th>\n",
       "      <th>alcohol</th>\n",
       "      <th>density</th>\n",
       "      <th>pH</th>\n",
       "      <th>sulphates</th>\n",
       "      <th>quality</th>\n",
       "    </tr>\n",
       "  </thead>\n",
       "  <tbody>\n",
       "    <tr>\n",
       "      <th>0</th>\n",
       "      <td>10.621781</td>\n",
       "      <td>1.001108</td>\n",
       "      <td>3.114047</td>\n",
       "      <td>0.770892</td>\n",
       "      <td>4</td>\n",
       "    </tr>\n",
       "    <tr>\n",
       "      <th>1</th>\n",
       "      <td>14.655000</td>\n",
       "      <td>1.022514</td>\n",
       "      <td>3.096375</td>\n",
       "      <td>0.857677</td>\n",
       "      <td>7</td>\n",
       "    </tr>\n",
       "    <tr>\n",
       "      <th>2</th>\n",
       "      <td>13.123958</td>\n",
       "      <td>1.042377</td>\n",
       "      <td>3.887505</td>\n",
       "      <td>0.475328</td>\n",
       "      <td>7</td>\n",
       "    </tr>\n",
       "    <tr>\n",
       "      <th>3</th>\n",
       "      <td>12.190609</td>\n",
       "      <td>1.033933</td>\n",
       "      <td>3.099455</td>\n",
       "      <td>0.737412</td>\n",
       "      <td>5</td>\n",
       "    </tr>\n",
       "    <tr>\n",
       "      <th>4</th>\n",
       "      <td>9.092130</td>\n",
       "      <td>1.038394</td>\n",
       "      <td>3.126340</td>\n",
       "      <td>0.700222</td>\n",
       "      <td>6</td>\n",
       "    </tr>\n",
       "  </tbody>\n",
       "</table>\n",
       "</div>"
      ],
      "text/plain": [
       "     alcohol   density        pH  sulphates  quality\n",
       "0  10.621781  1.001108  3.114047   0.770892        4\n",
       "1  14.655000  1.022514  3.096375   0.857677        7\n",
       "2  13.123958  1.042377  3.887505   0.475328        7\n",
       "3  12.190609  1.033933  3.099455   0.737412        5\n",
       "4   9.092130  1.038394  3.126340   0.700222        6"
      ]
     },
     "execution_count": 11,
     "metadata": {},
     "output_type": "execute_result"
    }
   ],
   "source": [
    "import pandas as pd\n",
    "import numpy as np\n",
    "\n",
    "# Set random seed for reproducibility\n",
    "np.random.seed(42)\n",
    "\n",
    "# Define the number of samples\n",
    "num_samples = 1000\n",
    "\n",
    "# Generate synthetic data for features\n",
    "alcohol = np.random.uniform(8, 15, num_samples)\n",
    "density = np.random.uniform(0.99, 1.05, num_samples)\n",
    "pH = np.random.uniform(2.8, 4.0, num_samples)\n",
    "sulphates = np.random.uniform(0.3, 1.0, num_samples)\n",
    "quality = np.random.randint(3, 9, num_samples)\n",
    "\n",
    "# Create a DataFrame for the synthetic wine quality dataset\n",
    "wine_data = pd.DataFrame({\n",
    "    'alcohol': alcohol,\n",
    "    'density': density,\n",
    "    'pH': pH,\n",
    "    'sulphates': sulphates,\n",
    "    'quality': quality\n",
    "})\n",
    "\n",
    "# Display the first few rows of the synthetic wine quality dataset\n",
    "print(wine_data.head())\n",
    "\n",
    "import pandas as pd\n",
    "import matplotlib.pyplot as plt\n",
    "import seaborn as sns\n",
    "\n",
    "# Load the wine quality dataset\n",
    "wine_data = pd.read_csv('wine_quality.csv')\n",
    "\n",
    "# Display the first few rows of the dataset\n",
    "wine_data.head()\n"
   ]
  },
  {
   "cell_type": "code",
   "execution_count": 12,
   "id": "81541128-b208-4c0d-9b09-1a807b0f281b",
   "metadata": {},
   "outputs": [
    {
     "data": {
      "image/png": "[encoded data removed]",
      "text/plain": [
       "<Figure size 1500x1000 with 5 Axes>"
      ]
     },
     "metadata": {},
     "output_type": "display_data"
    }
   ],
   "source": [
    "# Plot histograms for each feature\n",
    "plt.figure(figsize=(15, 10))\n",
    "\n",
    "# Iterate through each column in the dataset\n",
    "for i, column in enumerate(wine_data.columns):\n",
    "    plt.subplot(3, 4, i + 1)\n",
    "    sns.histplot(wine_data[column], kde=True)\n",
    "    plt.title(column)\n",
    "\n",
    "plt.tight_layout()\n",
    "plt.show()\n"
   ]
  },
  {
   "cell_type": "markdown",
   "id": "c750d782-984d-466c-a959-11443cc0acde",
   "metadata": {},
   "source": [
    "## Q6. Using the wine quality data set, perform principal component analysis (PCA) to reduce the number of  features. What is the minimum number of principal components required to explain 90% of the variance in the data?"
   ]
  },
  {
   "cell_type": "markdown",
   "id": "b9e86c6d-6366-4e88-9452-611b7d63ef71",
   "metadata": {},
   "source": [
    "## Ans-"
   ]
  },
  {
   "cell_type": "code",
   "execution_count": 10,
   "id": "2aff0da9-03db-4b59-869a-cdbbb0ed7327",
   "metadata": {},
   "outputs": [
    {
     "name": "stdout",
     "output_type": "stream",
     "text": [
      "     alcohol   density        pH  sulphates  quality\n",
      "0  10.621781  1.001108  3.114047   0.770892        4\n",
      "1  14.655000  1.022514  3.096375   0.857677        7\n",
      "2  13.123958  1.042377  3.887505   0.475328        7\n",
      "3  12.190609  1.033933  3.099455   0.737412        5\n",
      "4   9.092130  1.038394  3.126340   0.700222        6\n",
      "Number of principal components to explain 90% of the variance: 4\n"
     ]
    }
   ],
   "source": [
    "import pandas as pd\n",
    "import numpy as np\n",
    "\n",
    "# Set random seed for reproducibility\n",
    "np.random.seed(42)\n",
    "\n",
    "# Define the number of samples\n",
    "num_samples = 1000\n",
    "\n",
    "# Generate synthetic data for features\n",
    "alcohol = np.random.uniform(8, 15, num_samples)\n",
    "density = np.random.uniform(0.99, 1.05, num_samples)\n",
    "pH = np.random.uniform(2.8, 4.0, num_samples)\n",
    "sulphates = np.random.uniform(0.3, 1.0, num_samples)\n",
    "quality = np.random.randint(3, 9, num_samples)\n",
    "\n",
    "# Create a DataFrame for the synthetic wine quality dataset\n",
    "wine_data = pd.DataFrame({\n",
    "    'alcohol': alcohol,\n",
    "    'density': density,\n",
    "    'pH': pH,\n",
    "    'sulphates': sulphates,\n",
    "    'quality': quality\n",
    "})\n",
    "\n",
    "# Display the first few rows of the synthetic wine quality dataset\n",
    "print(wine_data.head())\n",
    "\n",
    "# Save the synthetic wine quality dataset to a CSV file\n",
    "wine_data.to_csv('wine_quality.csv', index=False)\n",
    "\n",
    "import pandas as pd\n",
    "from sklearn.decomposition import PCA\n",
    "from sklearn.preprocessing import StandardScaler\n",
    "\n",
    "# Load the wine quality dataset\n",
    "wine_data = pd.read_csv('wine_quality.csv')\n",
    "\n",
    "# Separate features (X) and target variable (y)\n",
    "X = wine_data.drop(columns=['quality'])  # Features\n",
    "y = wine_data['quality']  # Target variable\n",
    "\n",
    "# Standardize the features\n",
    "scaler = StandardScaler()\n",
    "X_scaled = scaler.fit_transform(X)\n",
    "\n",
    "# Perform PCA\n",
    "pca = PCA(n_components=0.90)  # Keep components that explain at least 90% of the variance\n",
    "X_pca = pca.fit_transform(X_scaled)\n",
    "\n",
    "# Number of principal components that explain 90% of the variance\n",
    "num_components = pca.n_components_\n",
    "print(\"Number of principal components to explain 90% of the variance:\", num_components)\n",
    "\n"
   ]
  },
  {
   "cell_type": "code",
   "execution_count": null,
   "id": "fff0fa65-2019-4e70-b1fc-1522d3972f12",
   "metadata": {},
   "outputs": [],
   "source": []
  }
 ],
 "metadata": {
  "kernelspec": {
   "display_name": "Python 3 (ipykernel)",
   "language": "python",
   "name": "python3"
  },
  "language_info": {
   "codemirror_mode": {
    "name": "ipython",
    "version": 3
   },
   "file_extension": ".py",
   "mimetype": "text/x-python",
   "name": "python",
   "nbconvert_exporter": "python",
   "pygments_lexer": "ipython3",
   "version": "3.10.8"
  }
 },
 "nbformat": 4,
 "nbformat_minor": 5
}
